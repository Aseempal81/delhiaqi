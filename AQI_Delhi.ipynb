{
 "cells": [
  {
   "cell_type": "code",
   "execution_count": 1,
   "id": "263916ef",
   "metadata": {},
   "outputs": [
    {
     "name": "stdout",
     "output_type": "stream",
     "text": [
      "Collecting kaggle\n",
      "  Downloading kaggle-1.5.16.tar.gz (83 kB)\n",
      "\u001b[2K     \u001b[90m━━━━━━━━━━━━━━━━━━━━━━━━━━━━━━━━━━━━━━━━\u001b[0m \u001b[32m83.6/83.6 kB\u001b[0m \u001b[31m1.0 MB/s\u001b[0m eta \u001b[36m0:00:00\u001b[0mta \u001b[36m0:00:01\u001b[0m\n",
      "\u001b[?25h  Preparing metadata (setup.py) ... \u001b[?25ldone\n",
      "\u001b[?25hRequirement already satisfied: six>=1.10 in /Users/aseemsingh/anaconda3/lib/python3.10/site-packages (from kaggle) (1.16.0)\n",
      "Requirement already satisfied: certifi in /Users/aseemsingh/anaconda3/lib/python3.10/site-packages (from kaggle) (2023.7.22)\n",
      "Requirement already satisfied: python-dateutil in /Users/aseemsingh/anaconda3/lib/python3.10/site-packages (from kaggle) (2.8.2)\n",
      "Requirement already satisfied: requests in /Users/aseemsingh/anaconda3/lib/python3.10/site-packages (from kaggle) (2.31.0)\n",
      "Requirement already satisfied: tqdm in /Users/aseemsingh/anaconda3/lib/python3.10/site-packages (from kaggle) (4.65.0)\n",
      "Collecting python-slugify\n",
      "  Downloading python_slugify-8.0.1-py2.py3-none-any.whl (9.7 kB)\n",
      "Requirement already satisfied: urllib3 in /Users/aseemsingh/anaconda3/lib/python3.10/site-packages (from kaggle) (1.26.16)\n",
      "Requirement already satisfied: bleach in /Users/aseemsingh/anaconda3/lib/python3.10/site-packages (from kaggle) (4.1.0)\n",
      "Requirement already satisfied: webencodings in /Users/aseemsingh/anaconda3/lib/python3.10/site-packages (from bleach->kaggle) (0.5.1)\n",
      "Requirement already satisfied: packaging in /Users/aseemsingh/anaconda3/lib/python3.10/site-packages (from bleach->kaggle) (23.0)\n",
      "Collecting text-unidecode>=1.3\n",
      "  Downloading text_unidecode-1.3-py2.py3-none-any.whl (78 kB)\n",
      "\u001b[2K     \u001b[90m━━━━━━━━━━━━━━━━━━━━━━━━━━━━━━━━━━━━━━━━\u001b[0m \u001b[32m78.2/78.2 kB\u001b[0m \u001b[31m4.3 MB/s\u001b[0m eta \u001b[36m0:00:00\u001b[0m\n",
      "\u001b[?25hRequirement already satisfied: idna<4,>=2.5 in /Users/aseemsingh/anaconda3/lib/python3.10/site-packages (from requests->kaggle) (3.4)\n",
      "Requirement already satisfied: charset-normalizer<4,>=2 in /Users/aseemsingh/anaconda3/lib/python3.10/site-packages (from requests->kaggle) (2.0.4)\n",
      "Building wheels for collected packages: kaggle\n",
      "  Building wheel for kaggle (setup.py) ... \u001b[?25ldone\n",
      "\u001b[?25h  Created wheel for kaggle: filename=kaggle-1.5.16-py3-none-any.whl size=110686 sha256=7eba9c42bbe41f1277fd3e2bd74a5456d0bd3da347e4dad96a305a1ac2678eed\n",
      "  Stored in directory: /Users/aseemsingh/Library/Caches/pip/wheels/b2/3d/88/839f363f3ce6b71785b8a95627cd52cb5359e54aba76a7ab76\n",
      "Successfully built kaggle\n",
      "Installing collected packages: text-unidecode, python-slugify, kaggle\n",
      "Successfully installed kaggle-1.5.16 python-slugify-8.0.1 text-unidecode-1.3\n"
     ]
    }
   ],
   "source": [
    "!pip install kaggle"
   ]
  },
  {
   "cell_type": "code",
   "execution_count": 21,
   "id": "21300a91",
   "metadata": {},
   "outputs": [
    {
     "name": "stdout",
     "output_type": "stream",
     "text": [
      "Collecting matplotlib\n",
      "  Downloading matplotlib-3.8.2-cp310-cp310-macosx_11_0_arm64.whl (7.5 MB)\n",
      "\u001b[2K     \u001b[90m━━━━━━━━━━━━━━━━━━━━━━━━━━━━━━━━━━━━━━━━\u001b[0m \u001b[32m7.5/7.5 MB\u001b[0m \u001b[31m17.2 MB/s\u001b[0m eta \u001b[36m0:00:00\u001b[0m00:01\u001b[0m00:01\u001b[0m\n",
      "\u001b[?25hRequirement already satisfied: python-dateutil>=2.7 in /Users/aseemsingh/anaconda3/lib/python3.10/site-packages (from matplotlib) (2.8.2)\n",
      "Requirement already satisfied: packaging>=20.0 in /Users/aseemsingh/anaconda3/lib/python3.10/site-packages (from matplotlib) (23.0)\n",
      "Requirement already satisfied: pillow>=8 in /Users/aseemsingh/anaconda3/lib/python3.10/site-packages (from matplotlib) (9.4.0)\n",
      "Collecting kiwisolver>=1.3.1\n",
      "  Downloading kiwisolver-1.4.5-cp310-cp310-macosx_11_0_arm64.whl (66 kB)\n",
      "\u001b[2K     \u001b[90m━━━━━━━━━━━━━━━━━━━━━━━━━━━━━━━━━━━━━━━━\u001b[0m \u001b[32m66.2/66.2 kB\u001b[0m \u001b[31m11.0 MB/s\u001b[0m eta \u001b[36m0:00:00\u001b[0m\n",
      "\u001b[?25hCollecting fonttools>=4.22.0\n",
      "  Downloading fonttools-4.44.3-cp310-cp310-macosx_10_9_universal2.whl (2.7 MB)\n",
      "\u001b[2K     \u001b[90m━━━━━━━━━━━━━━━━━━━━━━━━━━━━━━━━━━━━━━━━\u001b[0m \u001b[32m2.7/2.7 MB\u001b[0m \u001b[31m26.1 MB/s\u001b[0m eta \u001b[36m0:00:00\u001b[0ma \u001b[36m0:00:01\u001b[0m\n",
      "\u001b[?25hRequirement already satisfied: numpy<2,>=1.21 in /Users/aseemsingh/anaconda3/lib/python3.10/site-packages (from matplotlib) (1.26.2)\n",
      "Collecting pyparsing>=2.3.1\n",
      "  Downloading pyparsing-3.1.1-py3-none-any.whl (103 kB)\n",
      "\u001b[2K     \u001b[90m━━━━━━━━━━━━━━━━━━━━━━━━━━━━━━━━━━━━━━\u001b[0m \u001b[32m103.1/103.1 kB\u001b[0m \u001b[31m13.7 MB/s\u001b[0m eta \u001b[36m0:00:00\u001b[0m\n",
      "\u001b[?25hCollecting contourpy>=1.0.1\n",
      "  Downloading contourpy-1.2.0-cp310-cp310-macosx_11_0_arm64.whl (242 kB)\n",
      "\u001b[2K     \u001b[90m━━━━━━━━━━━━━━━━━━━━━━━━━━━━━━━━━━━━━━\u001b[0m \u001b[32m242.2/242.2 kB\u001b[0m \u001b[31m16.8 MB/s\u001b[0m eta \u001b[36m0:00:00\u001b[0m\n",
      "\u001b[?25hCollecting cycler>=0.10\n",
      "  Downloading cycler-0.12.1-py3-none-any.whl (8.3 kB)\n",
      "Requirement already satisfied: six>=1.5 in /Users/aseemsingh/anaconda3/lib/python3.10/site-packages (from python-dateutil>=2.7->matplotlib) (1.16.0)\n",
      "Installing collected packages: pyparsing, kiwisolver, fonttools, cycler, contourpy, matplotlib\n",
      "Successfully installed contourpy-1.2.0 cycler-0.12.1 fonttools-4.44.3 kiwisolver-1.4.5 matplotlib-3.8.2 pyparsing-3.1.1\n"
     ]
    }
   ],
   "source": [
    "!pip install matplotlib"
   ]
  },
  {
   "cell_type": "code",
   "execution_count": 22,
   "id": "74439bc3",
   "metadata": {},
   "outputs": [],
   "source": [
    "import pandas as pd\n",
    "import numpy as np\n",
    "import matplotlib.pyplot as plt"
   ]
  },
  {
   "cell_type": "code",
   "execution_count": 10,
   "id": "e5c69029",
   "metadata": {},
   "outputs": [],
   "source": [
    "df = pd.read_csv('delhi_aqi.csv')"
   ]
  },
  {
   "cell_type": "code",
   "execution_count": 11,
   "id": "2a4e43c6",
   "metadata": {},
   "outputs": [
    {
     "data": {
      "text/plain": [
       "168984"
      ]
     },
     "execution_count": 11,
     "metadata": {},
     "output_type": "execute_result"
    }
   ],
   "source": [
    "df.size"
   ]
  },
  {
   "cell_type": "code",
   "execution_count": 12,
   "id": "804b3ff0",
   "metadata": {},
   "outputs": [
    {
     "data": {
      "text/plain": [
       "(18776, 9)"
      ]
     },
     "execution_count": 12,
     "metadata": {},
     "output_type": "execute_result"
    }
   ],
   "source": [
    "df.shape"
   ]
  },
  {
   "cell_type": "code",
   "execution_count": 13,
   "id": "6ae2be71",
   "metadata": {},
   "outputs": [
    {
     "data": {
      "text/plain": [
       "Index(['date', 'co', 'no', 'no2', 'o3', 'so2', 'pm2_5', 'pm10', 'nh3'], dtype='object')"
      ]
     },
     "execution_count": 13,
     "metadata": {},
     "output_type": "execute_result"
    }
   ],
   "source": [
    "df.columns"
   ]
  },
  {
   "cell_type": "code",
   "execution_count": 15,
   "id": "0dfd3d8d",
   "metadata": {},
   "outputs": [
    {
     "name": "stdout",
     "output_type": "stream",
     "text": [
      "<class 'pandas.core.frame.DataFrame'>\n",
      "RangeIndex: 18776 entries, 0 to 18775\n",
      "Data columns (total 9 columns):\n",
      " #   Column  Non-Null Count  Dtype  \n",
      "---  ------  --------------  -----  \n",
      " 0   date    18776 non-null  object \n",
      " 1   co      18776 non-null  float64\n",
      " 2   no      18776 non-null  float64\n",
      " 3   no2     18776 non-null  float64\n",
      " 4   o3      18776 non-null  float64\n",
      " 5   so2     18776 non-null  float64\n",
      " 6   pm2_5   18776 non-null  float64\n",
      " 7   pm10    18776 non-null  float64\n",
      " 8   nh3     18776 non-null  float64\n",
      "dtypes: float64(8), object(1)\n",
      "memory usage: 1.3+ MB\n"
     ]
    }
   ],
   "source": [
    "df.info()"
   ]
  },
  {
   "cell_type": "code",
   "execution_count": 9,
   "id": "c45f0480",
   "metadata": {},
   "outputs": [
    {
     "data": {
      "text/html": [
       "<div>\n",
       "<style scoped>\n",
       "    .dataframe tbody tr th:only-of-type {\n",
       "        vertical-align: middle;\n",
       "    }\n",
       "\n",
       "    .dataframe tbody tr th {\n",
       "        vertical-align: top;\n",
       "    }\n",
       "\n",
       "    .dataframe thead th {\n",
       "        text-align: right;\n",
       "    }\n",
       "</style>\n",
       "<table border=\"1\" class=\"dataframe\">\n",
       "  <thead>\n",
       "    <tr style=\"text-align: right;\">\n",
       "      <th></th>\n",
       "      <th>date</th>\n",
       "      <th>co</th>\n",
       "      <th>no</th>\n",
       "      <th>no2</th>\n",
       "      <th>o3</th>\n",
       "      <th>so2</th>\n",
       "      <th>pm2_5</th>\n",
       "      <th>pm10</th>\n",
       "      <th>nh3</th>\n",
       "    </tr>\n",
       "  </thead>\n",
       "  <tbody>\n",
       "    <tr>\n",
       "      <th>0</th>\n",
       "      <td>2020-11-25 01:00:00</td>\n",
       "      <td>2616.88</td>\n",
       "      <td>2.18</td>\n",
       "      <td>70.60</td>\n",
       "      <td>13.59</td>\n",
       "      <td>38.62</td>\n",
       "      <td>364.61</td>\n",
       "      <td>411.73</td>\n",
       "      <td>28.63</td>\n",
       "    </tr>\n",
       "    <tr>\n",
       "      <th>1</th>\n",
       "      <td>2020-11-25 02:00:00</td>\n",
       "      <td>3631.59</td>\n",
       "      <td>23.25</td>\n",
       "      <td>89.11</td>\n",
       "      <td>0.33</td>\n",
       "      <td>54.36</td>\n",
       "      <td>420.96</td>\n",
       "      <td>486.21</td>\n",
       "      <td>41.04</td>\n",
       "    </tr>\n",
       "    <tr>\n",
       "      <th>2</th>\n",
       "      <td>2020-11-25 03:00:00</td>\n",
       "      <td>4539.49</td>\n",
       "      <td>52.75</td>\n",
       "      <td>100.08</td>\n",
       "      <td>1.11</td>\n",
       "      <td>68.67</td>\n",
       "      <td>463.68</td>\n",
       "      <td>541.95</td>\n",
       "      <td>49.14</td>\n",
       "    </tr>\n",
       "    <tr>\n",
       "      <th>3</th>\n",
       "      <td>2020-11-25 04:00:00</td>\n",
       "      <td>4539.49</td>\n",
       "      <td>50.96</td>\n",
       "      <td>111.04</td>\n",
       "      <td>6.44</td>\n",
       "      <td>78.20</td>\n",
       "      <td>454.81</td>\n",
       "      <td>534.00</td>\n",
       "      <td>48.13</td>\n",
       "    </tr>\n",
       "    <tr>\n",
       "      <th>4</th>\n",
       "      <td>2020-11-25 05:00:00</td>\n",
       "      <td>4379.27</td>\n",
       "      <td>42.92</td>\n",
       "      <td>117.90</td>\n",
       "      <td>17.17</td>\n",
       "      <td>87.74</td>\n",
       "      <td>448.14</td>\n",
       "      <td>529.19</td>\n",
       "      <td>46.61</td>\n",
       "    </tr>\n",
       "  </tbody>\n",
       "</table>\n",
       "</div>"
      ],
      "text/plain": [
       "                  date       co     no     no2     o3    so2   pm2_5    pm10  \\\n",
       "0  2020-11-25 01:00:00  2616.88   2.18   70.60  13.59  38.62  364.61  411.73   \n",
       "1  2020-11-25 02:00:00  3631.59  23.25   89.11   0.33  54.36  420.96  486.21   \n",
       "2  2020-11-25 03:00:00  4539.49  52.75  100.08   1.11  68.67  463.68  541.95   \n",
       "3  2020-11-25 04:00:00  4539.49  50.96  111.04   6.44  78.20  454.81  534.00   \n",
       "4  2020-11-25 05:00:00  4379.27  42.92  117.90  17.17  87.74  448.14  529.19   \n",
       "\n",
       "     nh3  \n",
       "0  28.63  \n",
       "1  41.04  \n",
       "2  49.14  \n",
       "3  48.13  \n",
       "4  46.61  "
      ]
     },
     "execution_count": 9,
     "metadata": {},
     "output_type": "execute_result"
    }
   ],
   "source": [
    "data.head(5)"
   ]
  },
  {
   "cell_type": "code",
   "execution_count": 16,
   "id": "fdb53e51",
   "metadata": {},
   "outputs": [
    {
     "data": {
      "text/html": [
       "<div>\n",
       "<style scoped>\n",
       "    .dataframe tbody tr th:only-of-type {\n",
       "        vertical-align: middle;\n",
       "    }\n",
       "\n",
       "    .dataframe tbody tr th {\n",
       "        vertical-align: top;\n",
       "    }\n",
       "\n",
       "    .dataframe thead th {\n",
       "        text-align: right;\n",
       "    }\n",
       "</style>\n",
       "<table border=\"1\" class=\"dataframe\">\n",
       "  <thead>\n",
       "    <tr style=\"text-align: right;\">\n",
       "      <th></th>\n",
       "      <th>co</th>\n",
       "      <th>no</th>\n",
       "      <th>no2</th>\n",
       "      <th>o3</th>\n",
       "      <th>so2</th>\n",
       "      <th>pm2_5</th>\n",
       "      <th>pm10</th>\n",
       "      <th>nh3</th>\n",
       "    </tr>\n",
       "  </thead>\n",
       "  <tbody>\n",
       "    <tr>\n",
       "      <th>count</th>\n",
       "      <td>18776.000000</td>\n",
       "      <td>18776.000000</td>\n",
       "      <td>18776.000000</td>\n",
       "      <td>18776.000000</td>\n",
       "      <td>18776.000000</td>\n",
       "      <td>18776.000000</td>\n",
       "      <td>18776.000000</td>\n",
       "      <td>18776.000000</td>\n",
       "    </tr>\n",
       "    <tr>\n",
       "      <th>mean</th>\n",
       "      <td>2929.228628</td>\n",
       "      <td>33.660702</td>\n",
       "      <td>66.221299</td>\n",
       "      <td>60.346239</td>\n",
       "      <td>66.693633</td>\n",
       "      <td>238.130309</td>\n",
       "      <td>300.092966</td>\n",
       "      <td>25.109815</td>\n",
       "    </tr>\n",
       "    <tr>\n",
       "      <th>std</th>\n",
       "      <td>2854.523506</td>\n",
       "      <td>62.127118</td>\n",
       "      <td>48.527492</td>\n",
       "      <td>80.464932</td>\n",
       "      <td>49.439191</td>\n",
       "      <td>226.533625</td>\n",
       "      <td>267.165827</td>\n",
       "      <td>26.402108</td>\n",
       "    </tr>\n",
       "    <tr>\n",
       "      <th>min</th>\n",
       "      <td>260.350000</td>\n",
       "      <td>0.000000</td>\n",
       "      <td>4.280000</td>\n",
       "      <td>0.000000</td>\n",
       "      <td>5.250000</td>\n",
       "      <td>11.830000</td>\n",
       "      <td>15.070000</td>\n",
       "      <td>0.000000</td>\n",
       "    </tr>\n",
       "    <tr>\n",
       "      <th>25%</th>\n",
       "      <td>1068.120000</td>\n",
       "      <td>0.680000</td>\n",
       "      <td>33.930000</td>\n",
       "      <td>0.340000</td>\n",
       "      <td>34.810000</td>\n",
       "      <td>84.440000</td>\n",
       "      <td>118.797500</td>\n",
       "      <td>9.630000</td>\n",
       "    </tr>\n",
       "    <tr>\n",
       "      <th>50%</th>\n",
       "      <td>1842.500000</td>\n",
       "      <td>5.250000</td>\n",
       "      <td>54.150000</td>\n",
       "      <td>27.180000</td>\n",
       "      <td>52.930000</td>\n",
       "      <td>157.445000</td>\n",
       "      <td>209.705000</td>\n",
       "      <td>17.480000</td>\n",
       "    </tr>\n",
       "    <tr>\n",
       "      <th>75%</th>\n",
       "      <td>3685.000000</td>\n",
       "      <td>35.760000</td>\n",
       "      <td>83.630000</td>\n",
       "      <td>92.980000</td>\n",
       "      <td>82.020000</td>\n",
       "      <td>313.000000</td>\n",
       "      <td>387.965000</td>\n",
       "      <td>30.400000</td>\n",
       "    </tr>\n",
       "    <tr>\n",
       "      <th>max</th>\n",
       "      <td>21148.680000</td>\n",
       "      <td>500.680000</td>\n",
       "      <td>460.620000</td>\n",
       "      <td>801.090000</td>\n",
       "      <td>579.830000</td>\n",
       "      <td>1708.090000</td>\n",
       "      <td>1969.930000</td>\n",
       "      <td>287.770000</td>\n",
       "    </tr>\n",
       "  </tbody>\n",
       "</table>\n",
       "</div>"
      ],
      "text/plain": [
       "                 co            no           no2            o3           so2  \\\n",
       "count  18776.000000  18776.000000  18776.000000  18776.000000  18776.000000   \n",
       "mean    2929.228628     33.660702     66.221299     60.346239     66.693633   \n",
       "std     2854.523506     62.127118     48.527492     80.464932     49.439191   \n",
       "min      260.350000      0.000000      4.280000      0.000000      5.250000   \n",
       "25%     1068.120000      0.680000     33.930000      0.340000     34.810000   \n",
       "50%     1842.500000      5.250000     54.150000     27.180000     52.930000   \n",
       "75%     3685.000000     35.760000     83.630000     92.980000     82.020000   \n",
       "max    21148.680000    500.680000    460.620000    801.090000    579.830000   \n",
       "\n",
       "              pm2_5          pm10           nh3  \n",
       "count  18776.000000  18776.000000  18776.000000  \n",
       "mean     238.130309    300.092966     25.109815  \n",
       "std      226.533625    267.165827     26.402108  \n",
       "min       11.830000     15.070000      0.000000  \n",
       "25%       84.440000    118.797500      9.630000  \n",
       "50%      157.445000    209.705000     17.480000  \n",
       "75%      313.000000    387.965000     30.400000  \n",
       "max     1708.090000   1969.930000    287.770000  "
      ]
     },
     "execution_count": 16,
     "metadata": {},
     "output_type": "execute_result"
    }
   ],
   "source": [
    "df.describe()"
   ]
  },
  {
   "cell_type": "code",
   "execution_count": 17,
   "id": "65a3ed11",
   "metadata": {},
   "outputs": [
    {
     "data": {
      "text/plain": [
       "date                 co       no     no2    o3      so2     pm2_5   pm10    nh3  \n",
       "2020-11-25 01:00:00  2616.88  2.18   70.60  13.59   38.62   364.61  411.73  28.63    1\n",
       "2022-05-03 03:00:00  1375.20  7.82   47.98  65.80   68.66   81.48   102.69  29.39    1\n",
       "2022-05-03 19:00:00  1241.68  0.00   30.85  117.30  37.67   113.83  131.36  21.28    1\n",
       "2022-05-03 18:00:00  1441.96  0.00   39.07  105.86  46.25   121.08  145.47  25.84    1\n",
       "2022-05-03 17:00:00  1548.77  0.00   41.47  101.57  51.02   123.92  154.33  28.37    1\n",
       "                                                                                    ..\n",
       "2021-08-13 18:00:00  1348.50  6.04   49.35  3.80    28.13   62.92   135.72  22.80    1\n",
       "2021-08-13 17:00:00  2136.23  22.58  56.89  0.03    40.53   97.04   190.96  32.93    1\n",
       "2021-08-13 16:00:00  2670.29  37.10  63.06  0.00    48.16   119.29  232.89  38.51    1\n",
       "2021-08-13 15:00:00  2990.72  46.49  70.60  0.00    53.41   129.79  259.02  39.52    1\n",
       "2023-01-24 08:00:00  1134.87  8.61   56.89  80.11   110.63  123.76  140.26  5.51     1\n",
       "Name: count, Length: 18776, dtype: int64"
      ]
     },
     "execution_count": 17,
     "metadata": {},
     "output_type": "execute_result"
    }
   ],
   "source": [
    "df.value_counts(dropna = False)"
   ]
  },
  {
   "cell_type": "code",
   "execution_count": 25,
   "id": "20548875",
   "metadata": {},
   "outputs": [
    {
     "data": {
      "text/plain": [
       "<Axes: ylabel='Frequency'>"
      ]
     },
     "execution_count": 25,
     "metadata": {},
     "output_type": "execute_result"
    },
    {
     "data": {
      "image/png": "[encoded data removed]",
      "text/plain": [
       "<Figure size 640x480 with 1 Axes>"
      ]
     },
     "metadata": {},
     "output_type": "display_data"
    }
   ],
   "source": [
    "df['co'].plot.hist(bins = 100)"
   ]
  },
  {
   "cell_type": "code",
   "execution_count": null,
   "id": "0623dea3",
   "metadata": {},
   "outputs": [],
   "source": []
  }
 ],
 "metadata": {
  "kernelspec": {
   "display_name": "Python 3 (ipykernel)",
   "language": "python",
   "name": "python3"
  },
  "language_info": {
   "codemirror_mode": {
    "name": "ipython",
    "version": 3
   },
   "file_extension": ".py",
   "mimetype": "text/x-python",
   "name": "python",
   "nbconvert_exporter": "python",
   "pygments_lexer": "ipython3",
   "version": "3.10.8"
  }
 },
 "nbformat": 4,
 "nbformat_minor": 5
}
